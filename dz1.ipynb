{
 "cells": [
  {
   "cell_type": "code",
   "execution_count": null,
   "id": "45e9e1f4",
   "metadata": {},
   "outputs": [],
   "source": [
    "# 2 задача"
   ]
  },
  {
   "cell_type": "code",
   "execution_count": 22,
   "id": "ef2295f3",
   "metadata": {},
   "outputs": [
    {
     "name": "stdout",
     "output_type": "stream",
     "text": [
      "Введите год: 2021\n",
      "Введите месяц: 12\n",
      "\t\t   December 2021\n",
      "\n",
      "Mon\tTue\tWed\tThu\tFri\tSat\tSun\n",
      "  \t  \t1 \t2 \t3 \t4 \t5 \t\n",
      "6 \t7 \t8 \t9 \t10 \t11 \t12 \t\n",
      "13 \t14 \t15 \t16 \t17 \t18 \t19 \t\n",
      "20 \t21 \t22 \t23 \t24 \t25 \t26 \t\n",
      "27 \t28 \t29 \t30 \t31 \t  \t  \t\n",
      "  \t  \t  \t  \t  \t  \t  \t\n"
     ]
    }
   ],
   "source": [
    "import datetime\n",
    "import numpy as np\n",
    "y = int(input(\"Введите год: \"))\n",
    "m = int(input(\"Введите месяц: \"))\n",
    "a=[]\n",
    "\n",
    "#time -> integer\n",
    "def to_integer(dt_time):\n",
    "    return dt_time.day\n",
    "\n",
    "#установка 00:00:00 01/m/y\n",
    "mdt=datetime.datetime(y, m, 1)\n",
    "dayofmm=31\n",
    "nextmm=0\n",
    "\n",
    "if mm!=12:\n",
    "    nextmm=datetime.datetime(y, m+1, 1)\n",
    "    dayofmm=datetime.datetime(y, m+1, 1)-datetime.datetime(y, m, 1)\n",
    "    dayofmm=dayofmm.days\n",
    "\n",
    "else :\n",
    "    nextmm=datetime.datetime(y+1,1,1)\n",
    "    dayofmm=31\n",
    "    \n",
    "    \n",
    "print(\"\\t\\t  \",mdt.strftime('%B'), y)\n",
    "print(\"\\nMon\\tTue\\tWed\\tThu\\tFri\\tSat\\tSun\")\n",
    "if mdt.strftime('%a')== 'Tue':\n",
    "    a.append(' ')\n",
    "elif mdt.strftime('%a')=='Wed':\n",
    "    a.append(' ')\n",
    "    a.append(' ')\n",
    "elif mdt.strftime('%a')=='Thu':\n",
    "    a.append(' ')\n",
    "    a.append(' ')\n",
    "    a.append(' ')\n",
    "elif mdt.strftime('%a')=='Fri':\n",
    "    a.append(' ')\n",
    "    a.append(' ')\n",
    "    a.append(' ')\n",
    "    a.append(' ')\n",
    "elif mdt.strftime('%a')=='Sat':\n",
    "    a.append(' ')\n",
    "    a.append(' ')\n",
    "    a.append(' ')\n",
    "    a.append(' ')\n",
    "    a.append(' ')\n",
    "elif mdt.strftime('%a')=='Sun':\n",
    "    a.append(' ')\n",
    "    a.append(' ')\n",
    "    a.append(' ')\n",
    "    a.append(' ')\n",
    "    a.append(' ')\n",
    "    a.append(' ')\n",
    "b=[]\n",
    "for i in range(dayofmm):\n",
    "    b=np.arange(dayofmm)\n",
    "    b=b+1\n",
    "a=np.array(a)\n",
    "c=np.concatenate([a,b])\n",
    "\n",
    "#print m/y\n",
    "if len(c)<42 :\n",
    "    c=np.concatenate([c,[' ']*(42-len(c))])\n",
    "c=c.reshape(6,7)\n",
    "for i in range(6) :\n",
    "    for j in range(7) :\n",
    "        print(c[i,j],\"\\t\", end='')\n",
    "    print('')\n",
    "\n",
    "\n"
   ]
  },
  {
   "cell_type": "code",
   "execution_count": 5,
   "id": "4eb2bdc4",
   "metadata": {},
   "outputs": [],
   "source": [
    "# 4 задача"
   ]
  },
  {
   "cell_type": "code",
   "execution_count": 25,
   "id": "f996c3a2",
   "metadata": {},
   "outputs": [
    {
     "name": "stdout",
     "output_type": "stream",
     "text": [
      "Первая кость:  6\n",
      "Вторая кость:  5\n",
      "Сумма:  11\n",
      "Вы победили\n",
      "Вероятность: 0.22\n"
     ]
    }
   ],
   "source": [
    "import random       \n",
    "c=random.randint(1, 6)   \n",
    "d=random.randint(1, 6)   \n",
    "print(\"Первая кость: \",c)\n",
    "print(\"Вторая кость: \",d)\n",
    "x=c+d\n",
    "print(\"Сумма: \",x)\n",
    "if x== 7 or x==11:\n",
    "    print(\"Вы победили\")\n",
    "    p1=6/36\n",
    "    p2=2/36\n",
    "    print(\"Вероятность:\",round(p1+p2,2))\n",
    "else:\n",
    "    if x==2 or x==3 or x==12:\n",
    "        print(\"Вы проиграли\")\n",
    "    else:\n",
    "        while True:\n",
    "            c = random.randint(1, 6)\n",
    "            d = random.randint(1, 6)\n",
    "            print(\"Первая кость: \",c)\n",
    "            print(\"Вторая кость: \",d)\n",
    "            x = c + d\n",
    "            print(\"Сумма: \",x)\n",
    "            if x== 7:\n",
    "                print(\"Вы победили\")\n",
    "                p1 = 6 / 36\n",
    "                print(\"Вероятность:\", round(p1,2))\n",
    "                break\n",
    "            if x==4 or x==5 or x==6 or x==8 or x==9 or x==12:\n",
    "                print(\"Вы проиграли\")\n",
    "                break"
   ]
  },
  {
   "cell_type": "code",
   "execution_count": null,
   "id": "3739e6ac",
   "metadata": {},
   "outputs": [],
   "source": []
  }
 ],
 "metadata": {
  "kernelspec": {
   "display_name": "Python 3 (ipykernel)",
   "language": "python",
   "name": "python3"
  },
  "language_info": {
   "codemirror_mode": {
    "name": "ipython",
    "version": 3
   },
   "file_extension": ".py",
   "mimetype": "text/x-python",
   "name": "python",
   "nbconvert_exporter": "python",
   "pygments_lexer": "ipython3",
   "version": "3.10.0"
  }
 },
 "nbformat": 4,
 "nbformat_minor": 5
}
