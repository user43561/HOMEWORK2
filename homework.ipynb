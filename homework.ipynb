{
 "cells": [
  {
   "cell_type": "markdown",
   "id": "68f546a8",
   "metadata": {},
   "source": [
    "6. Такси Рамануджана. С. Рамануджан - индийский математик, славившийся своей интуицией в области чисел. Когда английский математик Г. Х. Харди навестил его однажды в больнице, он обмолвился, что номеров такси на котором он приехал, было 1729, такое скучное и заурядное число. На что Рамануджан ответил: \"Нет, нет! Это очень интересно число. Это наименьшее число, выражаемое как сумма двух кубов двумя разными способами.\" Проверьте это заявление, создав программу, получающую $n$  в аргументе командной строки и выводящую все целые числа, меньше или равные  $n$, которые могут быть выражены как сумма двух кубов двумя разными способами. Другими словами, найдите различные положительные числа $a,b,c,d$, удовлетворяющие условию \n",
    "$$ a^3 + b^3 = c^3 + d^3 $$\n",
    "Используйте четыре вложенных цикла for."
   ]
  },
  {
   "cell_type": "code",
   "execution_count": 6,
   "id": "8b992b8d",
   "metadata": {},
   "outputs": [
    {
     "name": "stdout",
     "output_type": "stream",
     "text": [
      "ramanudjan limit a=50\n",
      "a = 12 b = 1 c = 10 d= 9 = 1729\n",
      "a = 16 b = 2 c = 15 d= 9 = 4104\n",
      "a = 24 b = 2 c = 20 d= 18 = 13832\n",
      "a = 27 b = 10 c = 24 d= 19 = 20683\n",
      "a = 32 b = 4 c = 30 d= 18 = 32832\n",
      "a = 34 b = 2 c = 33 d= 15 = 39312\n",
      "a = 34 b = 9 c = 33 d= 16 = 40033\n",
      "a = 36 b = 3 c = 30 d= 27 = 46683\n",
      "a = 39 b = 17 c = 36 d= 26 = 64232\n",
      "a = 40 b = 12 c = 33 d= 31 = 65728\n",
      "a = 48 b = 4 c = 40 d= 36 = 110656\n",
      "a = 48 b = 6 c = 45 d= 27 = 110808\n"
     ]
    }
   ],
   "source": [
    "a = int (input('ramanudjan limit a='))\n",
    "for a in range(1, a+1):\n",
    "    for b in range(1, a+1):\n",
    "        for c in range(1, a+1):\n",
    "          for d in range(1, a+1):\n",
    "              if a**3 + b**3 == c**3 + d**3 and a!=c and a!=d and b!=c and b!=d  and  a>b and c>d:\n",
    "                print('a =', a, 'b =', b, 'c =', c, 'd=',  d, '=', a**3 + b**3 )       "
   ]
  },
  {
   "cell_type": "code",
   "execution_count": null,
   "id": "ecd4bd9d",
   "metadata": {},
   "outputs": [],
   "source": []
  }
 ],
 "metadata": {
  "kernelspec": {
   "display_name": "Python 3 (ipykernel)",
   "language": "python",
   "name": "python3"
  },
  "language_info": {
   "codemirror_mode": {
    "name": "ipython",
    "version": 3
   },
   "file_extension": ".py",
   "mimetype": "text/x-python",
   "name": "python",
   "nbconvert_exporter": "python",
   "pygments_lexer": "ipython3",
   "version": "3.10.0"
  }
 },
 "nbformat": 4,
 "nbformat_minor": 5
}
