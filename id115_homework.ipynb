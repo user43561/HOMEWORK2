{
 "cells": [
  {
   "cell_type": "code",
   "execution_count": null,
   "id": "9ef2b215",
   "metadata": {},
   "outputs": [],
   "source": [
    "# 1"
   ]
  },
  {
   "cell_type": "code",
   "execution_count": 214,
   "id": "cf6bd38f",
   "metadata": {},
   "outputs": [
    {
     "name": "stdout",
     "output_type": "stream",
     "text": [
      "2021\n",
      "11\n",
      "   November 2021\n",
      "Mo Tu We Th Fr Sa Su\n",
      " 1  2  3  4  5  6  7\n",
      " 8  9 10 11 12 13 14\n",
      "15 16 17 18 19 20 21\n",
      "22 23 24 25 26 27 28\n",
      "29 30\n",
      "\n"
     ]
    }
   ],
   "source": [
    "import calendar\n",
    "c = calendar.TextCalendar(calendar.MONDAY)\n",
    "y = int(input())\n",
    "m = int(input())\n",
    "str = c.formatmonth(y, m)\n",
    "print (str)"
   ]
  },
  {
   "cell_type": "code",
   "execution_count": null,
   "id": "ad56596e",
   "metadata": {},
   "outputs": [],
   "source": [
    "# 2"
   ]
  },
  {
   "cell_type": "code",
   "execution_count": 213,
   "id": "95e68ab7",
   "metadata": {},
   "outputs": [
    {
     "name": "stdout",
     "output_type": "stream",
     "text": [
      "[2 5]\n",
      "Сумма 7\n",
      "Вероятность выигрыша  0.2222222222222222\n"
     ]
    }
   ],
   "source": [
    "import numpy\n",
    "\n",
    "a = numpy.random.randint(1,6,2)\n",
    "print(a)\n",
    "x = a[0] + a[1] \n",
    "print(\"Сумма\", x)\n",
    "if x==7 or x ==11:\n",
    "        w = 8/36\n",
    "        print(\"Вероятность выигрыша \", w)\n",
    "elif x==2 or x==3 or x==12 or x==4 or x==5 or x==6 or x==8 or x==9:\n",
    "        print(\"You loose\")\n",
    "else:\n",
    "        print(\"10 не входило в план\")"
   ]
  }
 ],
 "metadata": {
  "kernelspec": {
   "display_name": "Python 3 (ipykernel)",
   "language": "python",
   "name": "python3"
  },
  "language_info": {
   "codemirror_mode": {
    "name": "ipython",
    "version": 3
   },
   "file_extension": ".py",
   "mimetype": "text/x-python",
   "name": "python",
   "nbconvert_exporter": "python",
   "pygments_lexer": "ipython3",
   "version": "3.10.0"
  }
 },
 "nbformat": 4,
 "nbformat_minor": 5
}
