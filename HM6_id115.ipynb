{
 "cells": [
  {
   "cell_type": "markdown",
   "metadata": {},
   "source": [
    "- Создайте класс Point(x, y) x, y - координаты точки на плоскости.\n",
    "- Реализуйте два метода a.distanceTo(b) - евкливодов расстояние между $a$ и $b$\n",
    "- Переопределите __str__ так чтобы при печати экземпляра выводилось (x, y) - то есть координаты точки"
   ]
  },
  {
   "cell_type": "code",
   "execution_count": 23,
   "metadata": {},
   "outputs": [],
   "source": [
    "class Point:\n",
    "    def __init__(self, x, y):\n",
    "        self.x = x\n",
    "        self.y = y\n",
    "    def distanceTo (self,b):\n",
    "        return pow(((self.x-b.x)**2 + (self.y-b.y)**2),1/2)    \n",
    "    def str (self):\n",
    "        return \"(\" + str(self.x) + \",\" + str(self.y) +  \")\"\n",
    "def zxc (a, b):\n",
    "        return pow(((a.x-b.x)**2 + (a.y-b.y)**2),1/2)"
   ]
  },
  {
   "cell_type": "code",
   "execution_count": 24,
   "metadata": {},
   "outputs": [
    {
     "name": "stdout",
     "output_type": "stream",
     "text": [
      "(1,1)\n",
      "(2,2)\n",
      "1.4142135623730951\n"
     ]
    }
   ],
   "source": [
    "a=Point(1,1)\n",
    "print(a.str())\n",
    "b=Point(2,2)\n",
    "print(b.str())\n",
    "print(a.distanceTo(b))"
   ]
  },
  {
   "cell_type": "markdown",
   "metadata": {},
   "source": [
    "- После того как Вы создадите класс запустите следующий код"
   ]
  },
  {
   "cell_type": "code",
   "execution_count": 25,
   "metadata": {},
   "outputs": [],
   "source": [
    "import random\n",
    "random.seed(42)\n",
    "points = list()\n",
    "for i in range(1000):\n",
    "    x = random.randint(1, 100)\n",
    "    y = random.randint(1, 100)\n",
    "    points.append(Point(x, y))"
   ]
  },
  {
   "cell_type": "markdown",
   "metadata": {},
   "source": [
    "- Напишите метод, который определит у какой из заданых точек больше всего соседей в радиусе 5.\n",
    "- Если таких точек несколько, то тогда выведите точку с наименьше суммой координат, если таких точек несколько, то выведите точку с наименьше абсциссой."
   ]
  },
  {
   "cell_type": "code",
   "execution_count": 27,
   "metadata": {},
   "outputs": [
    {
     "name": "stdout",
     "output_type": "stream",
     "text": [
      "(12,56)\n"
     ]
    }
   ],
   "source": [
    "index=0\n",
    "max=0 \n",
    "for i in range(1000):\n",
    "    count=0\n",
    "    for j in range(1000):\n",
    "        if(zxc(points[i],(points[j]))==5):\n",
    "            count+=1\n",
    "    if count>max :\n",
    "        max=count\n",
    "        index=i\n",
    "    elif count==max:\n",
    "        if points[index].x + points[index].y > points[i].x + points[i].y :\n",
    "            index=i\n",
    "        elif points[index].x + points[index].y == points[i].x + points[i].x :\n",
    "            if points[index].x > points[i].x:\n",
    "                index=i\n",
    "print(points[index].str())\n"
   ]
  }
 ],
 "metadata": {
  "kernelspec": {
   "display_name": "Python 3 (ipykernel)",
   "language": "python",
   "name": "python3"
  },
  "language_info": {
   "codemirror_mode": {
    "name": "ipython",
    "version": 3
   },
   "file_extension": ".py",
   "mimetype": "text/x-python",
   "name": "python",
   "nbconvert_exporter": "python",
   "pygments_lexer": "ipython3",
   "version": "3.10.0"
  }
 },
 "nbformat": 4,
 "nbformat_minor": 4
}
