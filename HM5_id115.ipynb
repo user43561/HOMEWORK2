{
 "cells": [
  {
   "cell_type": "markdown",
   "id": "ec5e07a4",
   "metadata": {},
   "source": [
    "# <b> Домашнее задание </b>"
   ]
  },
  {
   "cell_type": "markdown",
   "id": "961b153d",
   "metadata": {},
   "source": [
    "<b>Задание 1.</b> Создайте массив, который состоит из целых чисел от -50 до 50 включительно. Затем удалите последние 25 элеметов массива. Затем разверните массив. Добавьте в конец массива 999. Создайте новый массив в который войдут все четные числа из ранее полученного массива и напечатайте его."
   ]
  },
  {
   "cell_type": "code",
   "execution_count": 30,
   "id": "1c4d7c29",
   "metadata": {},
   "outputs": [
    {
     "name": "stdout",
     "output_type": "stream",
     "text": [
      "-50,-48,-46,-44,-42,-40,-38,-36,-34,-32,-30,-28,-26,-24,-22,-20,-18,-16,-14,-12,-10,-8,-6,-4,-2,0,2,4,6,8,10,12,14,16,18,20,22,24\n"
     ]
    }
   ],
   "source": [
    "# решение\n",
    "arr=list(range(-50,51,1))\n",
    "x=[]\n",
    "\n",
    "a=(len(arr)-25)\n",
    "while len(arr)>a:\n",
    "   \n",
    "   arr.pop()\n",
    "arr.append(999)\n",
    "\n",
    "for i in list(arr):\n",
    "    if i%2==0:\n",
    "        x.append(str(i))\n",
    "print (','.join(x),)\n"
   ]
  },
  {
   "cell_type": "markdown",
   "id": "2512e6d2",
   "metadata": {},
   "source": [
    "<b>Задание 2.</b> Даны несколько массивов целых чисел (A, B, C, D). Напишите программный код, с помощью которого вы сможете определить длину самой длинной непрерывной последовательности равных значений для каждого из массивов."
   ]
  },
  {
   "cell_type": "code",
   "execution_count": 25,
   "id": "ac5ce32b",
   "metadata": {},
   "outputs": [
    {
     "name": "stdout",
     "output_type": "stream",
     "text": [
      "22\n",
      "2\n",
      "23\n",
      "6\n",
      "4\n"
     ]
    }
   ],
   "source": [
    "# [1, 1, 1, 2, 3, 4, 5, 6, 3, 4, 1, 1, 1, 1] - самая длинная последовательность длины 4\n",
    "A = [1] * 20 + [1, 1, 3] * 30 + [1] * 21\n",
    "\n",
    "B = list(range(1, 9, 2)) * 3 + list(range(4, 1, 1)) * 2 + [3] * 3\n",
    "B.pop()\n",
    "B.reverse()\n",
    "B.pop()\n",
    "B.reverse()\n",
    "\n",
    "C = [b - 2 for b in B]\n",
    "C.reverse()\n",
    "C =  A + C\n",
    "\n",
    "D = [777] + [666] + [1,2,1,1] * 2 + [1,1,1,1,3]*3 + [1, 4] * 2\n",
    "\n",
    "E = [1, 1, 1, 2, 3, 4, 5, 6, 3, 4, 1, 1, 1, 1]\n",
    "\n",
    "def lengh(E):\n",
    "    max = 1\n",
    "    count = 1\n",
    "    for i in range(len(E)-1):\n",
    "        if E[i]==E[i+1]:\n",
    "            count+=1\n",
    "            if count>max:\n",
    "                max=count\n",
    "        else:\n",
    "            count=1\n",
    "    return max;\n",
    "print(lengh(A))\n",
    "print(lengh(B))\n",
    "print(lengh(C))\n",
    "print(lengh(D))\n",
    "print(lengh(E))"
   ]
  },
  {
   "cell_type": "markdown",
   "id": "27d36d11",
   "metadata": {},
   "source": [
    "<b>Задание 3.</b> Напишите функция, которая на вход принимает прямоугольную матрицу и возвращает транспонированную матрицу. Протестируйте функцию на матрицах A, B, C."
   ]
  },
  {
   "cell_type": "code",
   "execution_count": 12,
   "id": "4a93ad57",
   "metadata": {},
   "outputs": [
    {
     "name": "stdout",
     "output_type": "stream",
     "text": [
      "[[ 2  3  4]\n",
      " [ 4  5  6]\n",
      " [ 7 -1 -2]\n",
      " [-4 -6 99]\n",
      " [ 1  0  1]]\n",
      "\n",
      "\n",
      "[[ 2  4  7 -4  1]\n",
      " [ 3  5 -1 -6  0]\n",
      " [ 4  6 -2 99  1]]\n"
     ]
    }
   ],
   "source": [
    "A = [[1, 1], [1, 0]]\n",
    "B = [[2, 3, 4], [4, 5, 6], [7, -1, -2], [-4, -6, 99], [1, 0, 1]]\n",
    "C = [[1, 2, 3, 4, 5]]\n",
    "\n",
    "import numpy as np\n",
    "\n",
    "arr_matrix = np.array(B) #Меняем матрицу для проверки,я проверил все.\n",
    "arr_transpose = np.transpose(arr_matrix)\n",
    "\n",
    "print(arr_matrix)\n",
    "print(\"\\n\")\n",
    "print(arr_transpose)"
   ]
  }
 ],
 "metadata": {
  "kernelspec": {
   "display_name": "Python 3 (ipykernel)",
   "language": "python",
   "name": "python3"
  },
  "language_info": {
   "codemirror_mode": {
    "name": "ipython",
    "version": 3
   },
   "file_extension": ".py",
   "mimetype": "text/x-python",
   "name": "python",
   "nbconvert_exporter": "python",
   "pygments_lexer": "ipython3",
   "version": "3.10.0"
  }
 },
 "nbformat": 4,
 "nbformat_minor": 5
}
